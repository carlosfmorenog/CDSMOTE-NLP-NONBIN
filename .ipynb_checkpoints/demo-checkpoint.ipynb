{
 "cells": [
  {
   "cell_type": "markdown",
   "metadata": {},
   "source": [
    "# Class-Decomposition and Augmentation for Imbalanced Data Sentiment Analysis\n",
    "\n",
    "The data was obtained from:\n",
    "\n",
    "* https://data.world/crowdflower/sentiment-of-climate-change\n",
    "\n",
    "Please reference this method as follows:\n",
    "\n",
    "* C. F. Moreno-García, C. Jayne and E. Elyan, \"Class-Decomposition and Augmentation for Imbalanced Data Sentiment Analysis,\" 2021 International Joint Conference on Neural Networks (IJCNN), 2021, pp. 1-7, doi: 10.1109/IJCNN52387.2021.9533603.\n",
    "\n",
    "OR USE THE BIBTEX:\n",
    "\n",
    "@INPROCEEDINGS{9533603,\n",
    "  author={Moreno-García, Carlos Francisco and Jayne, Chrisina and Elyan, Eyad},\n",
    "  booktitle={2021 International Joint Conference on Neural Networks (IJCNN)}, \n",
    "  title={Class-Decomposition and Augmentation for Imbalanced Data Sentiment Analysis}, \n",
    "  year={2021},\n",
    "  volume={},\n",
    "  number={},\n",
    "  pages={1-7},\n",
    "  doi={10.1109/IJCNN52387.2021.9533603}}\n"
   ]
  },
  {
   "cell_type": "code",
   "execution_count": 1,
   "metadata": {},
   "outputs": [],
   "source": [
    "## Import necessary packages\n",
    "import sys\n",
    "import clustData\n",
    "import computeKVs\n",
    "import numpy as np\n",
    "import csv\n",
    "import math\n",
    "import pandas as pd\n",
    "import seaborn as sns\n",
    "import matplotlib.pyplot as plt\n",
    "from imblearn.over_sampling import SMOTE\n",
    "from imblearn.over_sampling import ADASYN\n",
    "from sklearn.model_selection import StratifiedShuffleSplit\n",
    "from sklearn import svm\n",
    "from sklearn.ensemble import RandomForestClassifier\n",
    "from sklearn import metrics"
   ]
  },
  {
   "cell_type": "markdown",
   "metadata": {},
   "source": [
    "To test this method, we will use features extracted using [GloVe](https://nlp.stanford.edu/projects/glove/) from the [Global Warming dataset](https://data.world/crowdflower/sentiment-of-climate-change), which contains tweets of people claiming no existence (class 0), neutral opinions (class 1) or support of the existence (class 2) of global warming."
   ]
  },
  {
   "cell_type": "code",
   "execution_count": 2,
   "metadata": {},
   "outputs": [],
   "source": [
    "dataset = 'data_encoded_glwarmingGloVe' # name of the csv file containing the data and target"
   ]
  },
  {
   "cell_type": "markdown",
   "metadata": {},
   "source": [
    "To apply the CDSMOTE method, we need to define the following parameters:\n",
    "\n",
    "* `classdecomp`: You can select different algorithms to cluster in the CD step. According to our experimental results, *DBSCAN* yields the best outcomes for sentiment analysis given the *cosine similarity distance* calculation.\n",
    "* `dbscan_metric`: If *DBSCAN* is used, then [a variety of metrics](https://scikit-learn.org/stable/modules/generated/sklearn.metrics.pairwise_distances.html#sklearn.metrics.pairwise_distances) can be selected. We have used the cosine similarity distance for this application.\n",
    "* `oversampler`: You can choose between SMOTE or ADASYN for the oversampling step. Currently we have always implemented SMOTE, hence the name of the method\n",
    "* `n_clusters`:\n",
    "* `EPS`:\n",
    "* `threshold`:"
   ]
  },
  {
   "cell_type": "code",
   "execution_count": 3,
   "metadata": {},
   "outputs": [],
   "source": [
    "classdecomp = 'DBSCAN' # 'kmeans', 'FCmeans', 'FCmeansOptimised' and 'DBSCAN' available \n",
    "dbscan_metric = 'cosine'\n",
    "oversampler = 'SMOTE' # 'SMOTE' and 'ADASYN' available\n",
    "n_clusters = 4 # used in option \"fixed\" and only if clusterings = \"Kmeans\" || \"FCmeans\"\n",
    "number_of_tests = 5 # How many times to repeat the SVM experiment comparing the original and new db\n",
    "EPS = 0.5 # clustering value if DBSCAN is used\n",
    "threshold = 10 # if samples in positive class are apart from average by more than this value, apply oversampling"
   ]
  },
  {
   "cell_type": "markdown",
   "metadata": {},
   "source": [
    "**STEP 1:** Loading the dataset"
   ]
  },
  {
   "cell_type": "code",
   "execution_count": 4,
   "metadata": {},
   "outputs": [
    {
     "name": "stdout",
     "output_type": "stream",
     "text": [
      "\n",
      "###### Dataset: data_encoded_glwarmingGloVe ##########\n",
      "\n",
      "  Class  Number of Samples\n",
      "0     0               1117\n",
      "1     1               1862\n",
      "2     2               3111\n",
      "Total samples: 6090\n",
      "\n",
      "Showing class distribution bar chart...\n"
     ]
    },
    {
     "data": {
      "image/png": "[encoded data removed]",
      "text/plain": [
       "<Figure size 720x432 with 1 Axes>"
      ]
     },
     "metadata": {
      "needs_background": "light"
     },
     "output_type": "display_data"
    }
   ],
   "source": [
    "## 1. Load dataset\n",
    "with open('data//'+str(dataset)+'.csv', 'r', newline='', encoding='utf-8') as f:\n",
    "    reader = csv.reader(f)\n",
    "    data = []\n",
    "    target = []\n",
    "    for row in reader:\n",
    "        data.append(list(map(float,row[0:len(row)-1])))\n",
    "        target.append(row[-1])\n",
    "del row, reader, f\n",
    "\n",
    "## 1.a. 0-1 Standarisation, not used since datasets are very big and crashes\n",
    "# from sklearn import preprocessing\n",
    "# data = preprocessing.scale(data)\n",
    "\n",
    "## 1.b. Correct targets (airline & glwarming db's)\n",
    "if 'airline' in dataset or 'glwarming' in dataset:\n",
    "    for i,j in enumerate(target):\n",
    "        if j == '0.000000000000000000e+00': \n",
    "            target[i] = '0'\n",
    "        elif j == '1.000000000000000000e+00': \n",
    "            target[i] = '1'\n",
    "        elif j == '2.000000000000000000e+00': \n",
    "            target[i] = '2'\n",
    "\n",
    "## 2. Find majority and minority classes\n",
    "majority_class = max(set(target), key=target.count)\n",
    "minority_class = min(set(target), key=target.count)\n",
    "\n",
    "## 3. Plot distribution of original dataset\n",
    "print('\\n###### Dataset: '+str(dataset)+' ##########\\n')\n",
    "histo = [['Class','Number of Samples']]\n",
    "for i, label1 in enumerate(sorted(list(set(target)))):\n",
    "    cont = 0\n",
    "    for j, label2 in enumerate(target):\n",
    "        if label1 == label2:\n",
    "            cont+=1\n",
    "    histo.append([label1,cont])\n",
    "histo.append(['Total Samples', len(target)])\n",
    "# Load as a panda\n",
    "histo_panda = pd.DataFrame.from_records(histo[1:-1], columns=histo[0])\n",
    "print(histo_panda)\n",
    "print('Total samples: '+str(len(target)))\n",
    "# Create a histogram using seaborn\n",
    "sns_plot = sns.barplot(x=\"Class\", y=\"Number of Samples\", data=histo_panda)\n",
    "# Save the image\n",
    "sns_plot.figure.set_size_inches(10, 6)\n",
    "print('\\nShowing class distribution bar chart...')\n",
    "plt.show()"
   ]
  },
  {
   "cell_type": "markdown",
   "metadata": {},
   "source": [
    "**STEP 2:** Apply class decomposition. Notice that when using DBSCAN, it is likely that all classes get decomposed regardless of whether they are minority or majority classes."
   ]
  },
  {
   "cell_type": "code",
   "execution_count": 5,
   "metadata": {},
   "outputs": [
    {
     "name": "stdout",
     "output_type": "stream",
     "text": [
      "\n",
      "Class decomposition by applying DBSCAN...\n",
      "Number of clusters found for class 0: 2\n",
      "Number of clusters found for class 1: 6\n",
      "Number of clusters found for class 2: 8\n",
      "    Class  Number of Samples\n",
      "0   0_c-1               1109\n",
      "1    0_c0                  8\n",
      "2   1_c-1               1818\n",
      "3    1_c0                  7\n",
      "4    1_c1                  6\n",
      "5    1_c2                  7\n",
      "6    1_c3                 18\n",
      "7    1_c4                  6\n",
      "8   2_c-1               3044\n",
      "9    2_c0                 14\n",
      "10   2_c1                  8\n",
      "11   2_c2                  7\n",
      "12   2_c3                  7\n",
      "13   2_c4                  9\n",
      "14   2_c5                 14\n",
      "15   2_c6                  8\n",
      "Total samples: 6090\n",
      "Average number of samples per class: 380.625\n",
      "\n",
      "Showing class distribution bar chart...\n"
     ]
    },
    {
     "data": {
      "image/png": "[encoded data removed]",
      "text/plain": [
       "<Figure size 720x432 with 1 Axes>"
      ]
     },
     "metadata": {
      "needs_background": "light"
     },
     "output_type": "display_data"
    }
   ],
   "source": [
    "import warnings; warnings.simplefilter('ignore')\n",
    "## 1. Calculate k vector (for class decomposition)  \n",
    "k = computeKVs.majority(data, target, n_clusters)\n",
    "\n",
    "## 2. Cluster the data\n",
    "if classdecomp.lower()=='kmeans':\n",
    "    target_cd = clustData.Kmeans(data, target, k)\n",
    "elif classdecomp.lower()=='fcmeans':\n",
    "    target_cd = clustData.FCmeans(data, target, k)\n",
    "elif classdecomp.lower()=='fcmeansoptimised':\n",
    "     target_cd = clustData.FCmeansOptimised(data, target, max_nclusters = 10)   \n",
    "elif classdecomp.lower()=='dbscan':        \n",
    "     target_cd = clustData.DBSCAN(data, target, eps=EPS, metric=dbscan_metric)\n",
    "else:\n",
    "    print('Invalid clustering algorithm selected.')\n",
    "    sys.exit()\n",
    "\n",
    "## 3. Plot distribution after cd\n",
    "histo = [['Class','Number of Samples']]\n",
    "for i, label1 in enumerate(sorted(list(set(target_cd)))):\n",
    "    cont = 0\n",
    "    for j, label2 in enumerate(target_cd):\n",
    "        if label1 == label2:\n",
    "            cont+=1\n",
    "    histo.append([label1,cont])\n",
    "histo.append(['Total Samples', len(target_cd)])\n",
    "# Save the histogram as a .csv file   \n",
    "# Load as a panda\n",
    "histo_panda = pd.DataFrame.from_records(histo[1:-1], columns=histo[0])\n",
    "print(histo_panda)\n",
    "print('Total samples: '+str(len(target_cd)))\n",
    "# Create a histogram using seaborn\n",
    "sns_plot = sns.barplot(x=\"Class\", y=\"Number of Samples\", data=histo_panda)\n",
    "# draw a line depicting the average\n",
    "indexesUnique = list(set(target_cd))\n",
    "indexesUnique.sort()\n",
    "cdclassdist_count = []\n",
    "cdclassdist_names = []\n",
    "for cdclass in indexesUnique:\n",
    "     cdclassdist_count.append(target_cd.count(cdclass))\n",
    "     cdclassdist_names.append(cdclass)\n",
    "average = sum(cdclassdist_count)/len(cdclassdist_count)\n",
    "print('Average number of samples per class:', average)\n",
    "plt.axhline(average, color='red')\n",
    "# Save the image\n",
    "sns_plot.figure.set_size_inches(10, 6)\n",
    "print('\\nShowing class distribution bar chart...')\n",
    "plt.show()"
   ]
  },
  {
   "cell_type": "markdown",
   "metadata": {},
   "source": [
    "**STEP 3:** Apply oversampling to the sub-classes of the original minority classes (i.e. class 0 and 1) that are *threshold* samples (in this case, 10) below the average (i.e. red line)"
   ]
  },
  {
   "cell_type": "code",
   "execution_count": 6,
   "metadata": {},
   "outputs": [
    {
     "name": "stdout",
     "output_type": "stream",
     "text": [
      "Oversampling class 0_c0...\n",
      "Oversampling class 1_c0...\n",
      "Oversampling class 1_c1...\n",
      "Oversampling class 1_c2...\n",
      "Oversampling class 1_c3...\n",
      "Oversampling class 1_c4...\n",
      "    Class  Number of Samples\n",
      "0   0_c-1               1109\n",
      "1    0_c0               1109\n",
      "2   1_c-1               1818\n",
      "3    1_c0               1109\n",
      "4    1_c1               1109\n",
      "5    1_c2               1109\n",
      "6    1_c3               1109\n",
      "7    1_c4               1109\n",
      "8   2_c-1               3044\n",
      "9    2_c0                 14\n",
      "10   2_c1                  8\n",
      "11   2_c2                  7\n",
      "12   2_c3                  7\n",
      "13   2_c4                  9\n",
      "14   2_c5                 14\n",
      "15   2_c6                  8\n",
      "Total samples: 12692\n",
      "New average number of samples per class: 793.25\n",
      "\n",
      "Showing class distribution bar chart...\n"
     ]
    },
    {
     "data": {
      "image/png": "[encoded data removed]",
      "text/plain": [
       "<Figure size 720x432 with 1 Axes>"
      ]
     },
     "metadata": {
      "needs_background": "light"
     },
     "output_type": "display_data"
    }
   ],
   "source": [
    "## 1. Calculate reference class (i.e. closest to the average and above it) for oversampling\n",
    "c = np.inf\n",
    "ref = majority_class+'_c0' # gets picked by default if none other accomplishes\n",
    "for i,j in enumerate(cdclassdist_count):\n",
    "    if abs(j-average)<c and j-average>=0:\n",
    "        c = abs(j-average)\n",
    "        ref = cdclassdist_names[i]\n",
    "\n",
    "data_cdsmote = list(np.asarray(data)[(np.where(np.asarray(target)==majority_class))])\n",
    "target_cdsmote = list(np.asarray(target_cd)[(np.where(np.asarray(target)==majority_class))])\n",
    "\n",
    "## 2. For all non-majority classes (considering the original dataset), see if they are far (i.e. difference greater than the threshold) from the average (red line in the last plot)\n",
    "flag = 0\n",
    "for i, cdclassdist_name in enumerate(cdclassdist_names):\n",
    "    if majority_class not in cdclassdist_name.split('_')[0]:\n",
    "        if abs(average-cdclassdist_count[i])>threshold and average-cdclassdist_count[i]>=0 and cdclassdist_count[i]>5: #>5 because smote can only oversample with over 5 samples!\n",
    "            flag = 1\n",
    "            print('Oversampling class '+str(cdclassdist_name)+'...')            \n",
    "            ## 3. Create a sub-dataset that only contains the new majority and current non-minority classes\n",
    "            data_majmin = []\n",
    "            target_majmin = []\n",
    "            for j, label in enumerate(target_cd):\n",
    "                if label == cdclassdist_name or label == ref:\n",
    "                    data_majmin.append(data[j])\n",
    "                    target_majmin.append(label)\n",
    "            ## 4. Do the oversampling\n",
    "            if oversampler.lower() == 'smote':\n",
    "                sm = SMOTE()\n",
    "                data_over, target_over = sm.fit_resample(data_majmin, target_majmin) \n",
    "            elif oversampler.lower() == 'adasyn':\n",
    "                ada = ADASYN()\n",
    "                data_over, target_over = ada.fit_resample(data_majmin, target_majmin)\n",
    "            else:\n",
    "                print('Invalid oversampling algorithm.')\n",
    "                sys.exit() \n",
    "            # Append the oversampled data to the new repository\n",
    "            for j, label in enumerate(target_over):\n",
    "                if label == cdclassdist_name:\n",
    "                    data_cdsmote.append(list(data_over[j]))\n",
    "                    target_cdsmote.append(label)\n",
    "        else:\n",
    "            # Append the not-oversampled\n",
    "            for j, label in enumerate(target_cd):\n",
    "                if label == cdclassdist_name:\n",
    "                    data_cdsmote.append(list(data[j]))\n",
    "                    target_cdsmote.append(label)\n",
    "\n",
    "\n",
    "## 5. Plot distribution after smote\n",
    "if flag == 1:\n",
    "    histo = [['Class','Number of Samples']]\n",
    "    for i, label1 in enumerate(sorted(list(set(target_cdsmote)))):\n",
    "        cont = 0\n",
    "        for j, label2 in enumerate(target_cdsmote):\n",
    "            if label1 == label2:\n",
    "                cont+=1\n",
    "        histo.append([label1,cont])\n",
    "    histo.append(['Total Samples', len(target_cdsmote)])\n",
    "    ## Load as a panda\n",
    "    histo_panda = pd.DataFrame.from_records(histo[1:-1], columns=histo[0])\n",
    "    print(histo_panda)\n",
    "    print('Total samples: '+str(len(target_cdsmote)))\n",
    "    ## Create a histogram using seaborn\n",
    "    sns_plot = sns.barplot(x=\"Class\", y=\"Number of Samples\", data=histo_panda)\n",
    "    ## draw a line depicting the average\n",
    "    indexesUnique = list(set(target_cdsmote))\n",
    "    indexesUnique.sort()\n",
    "    newestclassdist_count = []\n",
    "    for newestclass in indexesUnique:\n",
    "          newestclassdist_count.append(target_cdsmote.count(newestclass))\n",
    "    average_new = sum(newestclassdist_count)/len(newestclassdist_count)\n",
    "    print('New average number of samples per class:', average_new)\n",
    "    plt.axhline(average, color='red')\n",
    "    plt.axhline(average_new, color='blue')\n",
    "    ## Save the image\n",
    "    sns_plot.figure.set_size_inches(10, 6)\n",
    "    print('\\nShowing class distribution bar chart...')\n",
    "    plt.show()\n",
    "else:\n",
    "    print('All non-majority classes are close to average. No oversampling was needed.')"
   ]
  },
  {
   "cell_type": "markdown",
   "metadata": {},
   "source": [
    "**STEP 4:** Classification (using SVM), comparing the **weighted** *precision*, *recall* and *f1-score* of the original dataset versus the one generated through CDSMOTE. We applied a five fold cross validation."
   ]
  },
  {
   "cell_type": "code",
   "execution_count": 7,
   "metadata": {
    "scrolled": true
   },
   "outputs": [
    {
     "name": "stdout",
     "output_type": "stream",
     "text": [
      "\n",
      "\n",
      "\n",
      "Experiment 1 Original DB...\n",
      "Precision Original DB: 0.6361112430980671\n",
      "Recall Original DB: 0.6414887794198139\n",
      "F1 Score Original DB: 0.6287908422179509\n",
      "\n",
      "------\n",
      "\n",
      "Experiment 2 Original DB...\n",
      "Precision Original DB: 0.6115989147885572\n",
      "Recall Original DB: 0.6190476190476191\n",
      "F1 Score Original DB: 0.6055929870779531\n",
      "\n",
      "------\n",
      "\n",
      "Experiment 3 Original DB...\n",
      "Precision Original DB: 0.6178776022596104\n",
      "Recall Original DB: 0.6261631089217297\n",
      "F1 Score Original DB: 0.6124623767376169\n",
      "\n",
      "------\n",
      "\n",
      "Experiment 4 Original DB...\n",
      "Precision Original DB: 0.6249389365009343\n",
      "Recall Original DB: 0.6294471811713191\n",
      "F1 Score Original DB: 0.6170285610602907\n",
      "\n",
      "------\n",
      "\n",
      "Experiment 5 Original DB...\n",
      "Precision Original DB: 0.6266523207670276\n",
      "Recall Original DB: 0.6327312534209086\n",
      "F1 Score Original DB: 0.6229949232551957\n",
      "\n",
      "------\n",
      "\n",
      "Experiment 1 CDSMOTE DB...\n",
      "Precision CDSMOTE DB: 0.8418462403780761\n",
      "Recall CDSMOTE DB: 0.8290441176470589\n",
      "F1 Score CDSMOTE DB: 0.8327006557010206\n",
      "\n",
      "Experiment 2 CDSMOTE DB...\n",
      "Precision CDSMOTE DB: 0.8362841591632103\n",
      "Recall CDSMOTE DB: 0.8237920168067226\n",
      "F1 Score CDSMOTE DB: 0.8272867619558628\n",
      "\n",
      "Experiment 3 CDSMOTE DB...\n",
      "Precision CDSMOTE DB: 0.8350826554262429\n",
      "Recall CDSMOTE DB: 0.8251050420168067\n",
      "F1 Score CDSMOTE DB: 0.82810196660657\n",
      "\n",
      "Experiment 4 CDSMOTE DB...\n",
      "Precision CDSMOTE DB: 0.8407128763744652\n",
      "Recall CDSMOTE DB: 0.8287815126050421\n",
      "F1 Score CDSMOTE DB: 0.8319888692748968\n",
      "\n",
      "Experiment 5 CDSMOTE DB...\n",
      "Precision CDSMOTE DB: 0.8387954436973363\n",
      "Recall CDSMOTE DB: 0.8264180672268907\n",
      "F1 Score CDSMOTE DB: 0.8298183225653534\n",
      "\n",
      "\n",
      "Final Results:\n",
      "Average Precision Original DB: 0.6234358034828393\n",
      "Average Recall Original DB: 0.6297755883962781\n",
      "Average F1 Score Original DB: 0.6173739380698015\n",
      "Average Precision CDSMOTE DB: 0.8385442750078662\n",
      "Average Recall CDSMOTE DB: 0.8266281512605043\n",
      "Average F1 Score CDSMOTE DB: 0.8299793152207406\n"
     ]
    }
   ],
   "source": [
    "print('\\n')\n",
    "\n",
    "accuracy_o_final = 0\n",
    "accuracy_c_final = 0\n",
    "recall_o_final = 0\n",
    "recall_c_final = 0\n",
    "precision_o_final = 0\n",
    "precision_c_final = 0\n",
    "f1_o_final = 0\n",
    "f1_c_final = 0\n",
    "\n",
    "## Split data/target and data_cdsmote/target_cdsmote (stratified and with many splits)\n",
    "sss = StratifiedShuffleSplit(n_splits=number_of_tests, \n",
    "                             test_size=0.3, random_state=42)\n",
    "\n",
    "# Original data, only do on the first test for the dataset to save time\n",
    "experiments = 0\n",
    "for train_index, test_index in sss.split(data, target):\n",
    "    # print(train_index, test_index)\n",
    "    print('\\nExperiment '+str(experiments+1)+' Original DB...')\n",
    "    experiments+=1\n",
    "    X_train_o, X_test_o = np.asarray(data)[train_index], np.asarray(data)[test_index]\n",
    "    y_train_o, y_test_o = np.asarray(target)[train_index], np.asarray(target)[test_index]\n",
    "    clf_o = svm.SVC(kernel='linear')\n",
    "    clf_o.fit(X_train_o, y_train_o)\n",
    "    y_pred_o = clf_o.predict(X_test_o)\n",
    "    # Test         \n",
    "    print(\"Precision Original DB:\",metrics.precision_score(y_test_o, y_pred_o, average='weighted'))\n",
    "    print(\"Recall Original DB:\",metrics.recall_score(y_test_o, y_pred_o, average='weighted'))\n",
    "    print(\"F1 Score Original DB:\",metrics.f1_score(y_test_o, y_pred_o, average='weighted'))\n",
    "    precision_o_final = precision_o_final + metrics.precision_score(y_test_o, y_pred_o, average='weighted')\n",
    "    recall_o_final = recall_o_final + metrics.recall_score(y_test_o, y_pred_o, average='weighted')\n",
    "    f1_o_final = f1_o_final + metrics.f1_score(y_test_o, y_pred_o, average='weighted')\n",
    "\n",
    "    print('\\n------')\n",
    "\n",
    "# CDSMOTE data\n",
    "experiments = 0\n",
    "for train_index, test_index in sss.split(data_cdsmote, target_cdsmote):\n",
    "    print('\\nExperiment '+str(experiments+1)+' CDSMOTE DB...')\n",
    "    experiments+=1\n",
    "    X_train_c, X_test_c,  = np.asarray(data_cdsmote)[train_index], np.asarray(data_cdsmote)[test_index]\n",
    "    y_train_c, y_test_c = np.asarray(target_cdsmote)[train_index], np.asarray(target_cdsmote)[test_index]\n",
    "    # Train models\n",
    "    clf_c = svm.SVC(kernel='linear')\n",
    "    clf_c.fit(X_train_c, y_train_c)\n",
    "    y_pred_c = clf_c.predict(X_test_c)\n",
    "    # Test, making sure accuracy considers sub_classes as good\n",
    "    for i,label in enumerate(y_pred_c):\n",
    "          y_pred_c[i] = label.split('_')[0]\n",
    "    for i,label in enumerate(y_test_c):\n",
    "          y_test_c[i] = label.split('_')[0]\n",
    "    print(\"Precision CDSMOTE DB:\",metrics.precision_score(y_test_c, y_pred_c, average='weighted'))\n",
    "    print(\"Recall CDSMOTE DB:\",metrics.recall_score(y_test_c, y_pred_c, average='weighted'))\n",
    "    print(\"F1 Score CDSMOTE DB:\",metrics.f1_score(y_test_c, y_pred_c, average='weighted'))\n",
    "    precision_c_final = precision_c_final + metrics.precision_score(y_test_c, y_pred_c, average='weighted')\n",
    "    recall_c_final = recall_c_final + metrics.recall_score(y_test_c, y_pred_c, average='weighted')\n",
    "    f1_c_final = f1_c_final + metrics.f1_score(y_test_c, y_pred_c, average='weighted')\n",
    "\n",
    "print('\\n')\n",
    "\n",
    "# Final results\n",
    "print('Final Results:')\n",
    "print(\"Average Precision Original DB:\",precision_o_final/experiments)\n",
    "print(\"Average Recall Original DB:\",recall_o_final/experiments)\n",
    "print(\"Average F1 Score Original DB:\",f1_o_final/experiments)\n",
    "print(\"Average Precision CDSMOTE DB:\",precision_c_final/experiments)\n",
    "print(\"Average Recall CDSMOTE DB:\",recall_c_final/experiments)\n",
    "print(\"Average F1 Score CDSMOTE DB:\",f1_c_final/experiments)"
   ]
  },
  {
   "cell_type": "markdown",
   "metadata": {},
   "source": [
    "Notice the the *weighted f1-score* when classifying this dataset increases from 0.617 to 0.829!"
   ]
  }
 ],
 "metadata": {
  "hide_input": false,
  "kernelspec": {
   "display_name": "Python 3",
   "language": "python",
   "name": "python3"
  },
  "language_info": {
   "codemirror_mode": {
    "name": "ipython",
    "version": 3
   },
   "file_extension": ".py",
   "mimetype": "text/x-python",
   "name": "python",
   "nbconvert_exporter": "python",
   "pygments_lexer": "ipython3",
   "version": "3.7.3"
  },
  "varInspector": {
   "cols": {
    "lenName": 16,
    "lenType": 16,
    "lenVar": 40
   },
   "kernels_config": {
    "python": {
     "delete_cmd_postfix": "",
     "delete_cmd_prefix": "del ",
     "library": "var_list.py",
     "varRefreshCmd": "print(var_dic_list())"
    },
    "r": {
     "delete_cmd_postfix": ") ",
     "delete_cmd_prefix": "rm(",
     "library": "var_list.r",
     "varRefreshCmd": "cat(var_dic_list()) "
    }
   },
   "types_to_exclude": [
    "module",
    "function",
    "builtin_function_or_method",
    "instance",
    "_Feature"
   ],
   "window_display": false
  }
 },
 "nbformat": 4,
 "nbformat_minor": 2
}
